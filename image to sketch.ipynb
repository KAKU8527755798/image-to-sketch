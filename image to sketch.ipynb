{
 "cells": [
  {
   "cell_type": "code",
   "execution_count": null,
   "id": "cdbb73f0",
   "metadata": {},
   "outputs": [],
   "source": [
    "#image to sketch"
   ]
  },
  {
   "cell_type": "code",
   "execution_count": 5,
   "id": "09c313bc",
   "metadata": {},
   "outputs": [],
   "source": [
    "import cv2\n",
    "\n",
    "def pencil(image):\n",
    "    \n",
    "    image=cv2.imread(image)\n",
    "    \n",
    "    gray=cv2.cvtColor(image,cv2.COLOR_BGR2GRAY)\n",
    "    \n",
    "    invert=cv2.bitwise_not(gray)\n",
    "    \n",
    "    blurred_image = cv2.GaussianBlur(invert, (111, 111), 0)\n",
    "    \n",
    "    inverted_blurred = cv2.bitwise_not(blurred_image)\n",
    "    \n",
    "    pencil_sketch = cv2.divide(gray, inverted_blurred, scale=256.0)\n",
    "    \n",
    "    return pencil_sketch\n"
   ]
  },
  {
   "cell_type": "code",
   "execution_count": 6,
   "id": "2fb87647",
   "metadata": {},
   "outputs": [],
   "source": [
    "input_image = '/Users/sahilaggarwal/Desktop/sahil aggarwal/WhatsApp Image 2023-01-21 at 19.40.05.jpg'\n",
    "output_image = '/Users/sahilaggarwal/Desktop/pencil.jpg'"
   ]
  },
  {
   "cell_type": "code",
   "execution_count": 7,
   "id": "6c17fad4",
   "metadata": {},
   "outputs": [
    {
     "name": "stdout",
     "output_type": "stream",
     "text": [
      "Pencil sketch saved: /Users/sahilaggarwal/Desktop/pencil.jpg\n"
     ]
    }
   ],
   "source": [
    "sketch = pencil(input_image)\n",
    "\n",
    "\n",
    "cv2.imwrite(output_image, sketch)\n",
    "\n",
    "print(\"Pencil sketch saved:\", output_image)"
   ]
  },
  {
   "cell_type": "code",
   "execution_count": null,
   "id": "7ffd37f3",
   "metadata": {},
   "outputs": [],
   "source": []
  }
 ],
 "metadata": {
  "kernelspec": {
   "display_name": "Python 3 (ipykernel)",
   "language": "python",
   "name": "python3"
  },
  "language_info": {
   "codemirror_mode": {
    "name": "ipython",
    "version": 3
   },
   "file_extension": ".py",
   "mimetype": "text/x-python",
   "name": "python",
   "nbconvert_exporter": "python",
   "pygments_lexer": "ipython3",
   "version": "3.10.11"
  }
 },
 "nbformat": 4,
 "nbformat_minor": 5
}
